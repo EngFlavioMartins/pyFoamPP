{
 "cells": [
  {
   "cell_type": "code",
   "execution_count": 1,
   "metadata": {},
   "outputs": [],
   "source": [
    "import importlib \n",
    "\n",
    "## Import Solvers and functions:\n",
    "import Libs.Subroutines\n",
    "importlib.reload(Libs.Subroutines);\n",
    "from Libs.Subroutines import preProcess"
   ]
  },
  {
   "cell_type": "markdown",
   "metadata": {},
   "source": [
    "### Create backups of OpenFOAM simulations. \n",
    "\n",
    "Run only 1 time for each dataset"
   ]
  },
  {
   "cell_type": "code",
   "execution_count": 5,
   "metadata": {},
   "outputs": [
    {
     "name": "stdout",
     "output_type": "stream",
     "text": [
      "Reading file ./OFBackups/OFData/constant/polyMesh/owner\n",
      "Reading file ./OFBackups/OFData/constant/polyMesh/faces\n",
      "Reading file ./OFBackups/OFData/constant/polyMesh/points\n",
      "Reading file ./OFBackups/OFData/constant/polyMesh/neighbour\n",
      "Reading file ./OFBackups/OFData/429/U\n",
      "Reading file ./OFBackups/OFData/429/p\n",
      "Computing arrays\n",
      "Interpolating Ux\n",
      "Interpolating Uy\n",
      "Interpolating Uz\n",
      "Interpolating p\n"
     ]
    }
   ],
   "source": [
    "filenames = ['OFData']\n",
    "timenames = ['429']\n",
    "\n",
    "kwargs = {'domain_bounds': [0, 20, 0, 4, 8, 13], \n",
    "           'grid_spacing': 0.1,\n",
    "           'structured': False,}\n",
    "\n",
    "## For each filename and solution time, create a backup that can be quickly restored:\n",
    "for c in range(len(filenames)):\n",
    "     preProcess(timenames[c], filenames[c], **kwargs)"
   ]
  }
 ],
 "metadata": {
  "kernelspec": {
   "display_name": "base",
   "language": "python",
   "name": "python3"
  },
  "language_info": {
   "codemirror_mode": {
    "name": "ipython",
    "version": 3
   },
   "file_extension": ".py",
   "mimetype": "text/x-python",
   "name": "python",
   "nbconvert_exporter": "python",
   "pygments_lexer": "ipython3",
   "version": "3.10.9"
  },
  "orig_nbformat": 4
 },
 "nbformat": 4,
 "nbformat_minor": 2
}
